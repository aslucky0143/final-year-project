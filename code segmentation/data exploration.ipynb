{
 "cells": [
  {
   "cell_type": "code",
   "execution_count": null,
   "metadata": {},
   "outputs": [],
   "source": [
    "import pandas as pd"
   ]
  },
  {
   "cell_type": "code",
   "execution_count": null,
   "metadata": {},
   "outputs": [],
   "source": [
    "#@title Default title text\n",
    "df = pd.read_csv('../cirrhosis.csv', index_col='ID')\n",
    "df.head()"
   ]
  },
  {
   "cell_type": "code",
   "execution_count": null,
   "metadata": {},
   "outputs": [],
   "source": [
    "df.info()"
   ]
  },
  {
   "cell_type": "markdown",
   "metadata": {},
   "source": [
    "This data set has about 19 features. These features are related to the patient’s details like age, sex, etc. and patient’s blood tests like prothrombin, triglycerides, platelets levels, etc. All these factors help in understanding a patient’s chances of liver cirrhosis.\n",
    "\n",
    "we have some NA values in our data, lets look at some statistical summary of numerical columns in out dataset."
   ]
  },
  {
   "cell_type": "code",
   "execution_count": null,
   "metadata": {},
   "outputs": [],
   "source": [
    "df.describe()"
   ]
  },
  {
   "cell_type": "markdown",
   "metadata": {},
   "source": [
    "## We have some missing values in our data, lets see how many and in which columns."
   ]
  },
  {
   "cell_type": "markdown",
   "metadata": {},
   "source": [
    "# We have two different types of data\n",
    "1. Numerical data  ( Age, Cholesterol, Platelets.. etc)\n",
    "2. Categorical Data ( Drug, Sex, Spiders..etc)\n",
    "\n",
    "We will have to use different imputation for each type\n",
    "\n",
    "1. For the numerical type we can use mean or median. In this case we will go with median to avoid skewing in the presence of outliers\n",
    "2. For Categorical type we will impute the most frequent class."
   ]
  },
  {
   "cell_type": "code",
   "execution_count": null,
   "metadata": {},
   "outputs": [],
   "source": [
    "df.isna().sum()"
   ]
  },
  {
   "cell_type": "code",
   "execution_count": null,
   "metadata": {},
   "outputs": [],
   "source": [
    "# For Numerical Type\n",
    "df.select_dtypes(include=(['int64', 'float64'])).isna().sum()"
   ]
  },
  {
   "cell_type": "code",
   "execution_count": null,
   "metadata": {},
   "outputs": [],
   "source": [
    "df.select_dtypes(include=(['int64', 'float64'])).isna().sum()\n",
    "df_num_col = df.select_dtypes(include=(['int64', 'float64'])).columns\n",
    "print(df_num_col)\n",
    "for c in df_num_col:\n",
    "    #Replaces the NA Values with thw median\n",
    "    df[c].fillna(df[c].median(), inplace=True)\n",
    "df.select_dtypes(include=(['int64', 'float64'])).isna().sum()"
   ]
  },
  {
   "cell_type": "code",
   "execution_count": null,
   "metadata": {},
   "outputs": [],
   "source": [
    "# For Categorical type\n",
    "df.select_dtypes(include=('object')).isna().sum()"
   ]
  },
  {
   "cell_type": "code",
   "execution_count": null,
   "metadata": {},
   "outputs": [],
   "source": [
    "df_cat_col = df.select_dtypes(include=('object')).columns\n",
    "for c in df_cat_col:\n",
    "    #replace the NA Values with the mode value of the column/feature\n",
    "    df[c].fillna(df[c].mode().values[0], inplace=True) \n",
    "df.select_dtypes(include=('object')).isna().sum()"
   ]
  }
 ],
 "metadata": {
  "kernelspec": {
   "display_name": "Python 3",
   "language": "python",
   "name": "python3"
  },
  "language_info": {
   "codemirror_mode": {
    "name": "ipython",
    "version": 3
   },
   "file_extension": ".py",
   "mimetype": "text/x-python",
   "name": "python",
   "nbconvert_exporter": "python",
   "pygments_lexer": "ipython3",
   "version": "3.11.7"
  }
 },
 "nbformat": 4,
 "nbformat_minor": 2
}
